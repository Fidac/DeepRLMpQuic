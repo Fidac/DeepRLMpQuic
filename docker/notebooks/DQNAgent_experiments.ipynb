{
 "cells": [
  {
   "cell_type": "raw",
   "metadata": {},
   "source": [
    "#variables\n",
    "best_weights_number = 0\n",
    "valid_congestion = 0\n",
    "rtt = 0"
   ]
  },
  {
   "cell_type": "code",
   "execution_count": null,
   "metadata": {},
   "outputs": [],
   "source": [
    "#paths\n",
    "weights_file = \"/App/output/train_0/weights_ \"+ str(best_weights_number) + \"_steps.h5\"\n",
    "validate_csv = \"/App/output/train_\"+ str(rtt) + \"/validate_\" + str(best_weights_number) + \".csv\"\n",
    "train = \"/App/output/train_\" + str(rtt)\n",
    "agregated = \"/App/output/aggregated_\" + str(rtt) + \".csv\""
   ]
  },
  {
   "cell_type": "code",
   "execution_count": null,
   "metadata": {},
   "outputs": [],
   "source": [
    "def setPaths(par_bwn, par_rtt):\n",
    "    weights_file = \"/App/output/train_0/weights_ \"+ str(best_weights_number) + \"_steps.h5\"\n",
    "    validate_csv = \"/App/output/train_\"+ str(par_rtt) + \"/validate_\" + str(best_weights_number) + \".csv\"\n",
    "    train = \"/App/output/train_\" + str(par_rtt)\n",
    "    agregated = \"/App/output/aggregated_\" + str(par_rtt) + \".csv\""
   ]
  },
  {
   "cell_type": "code",
   "execution_count": null,
   "metadata": {},
   "outputs": [],
   "source": [
    "def setVariableValues(par_bwn, par_rtt, par_vc=0):\n",
    "    best_weights_number = par_bwn\n",
    "    rtt = par_rtt\n",
    "    valid_congestion = par_vc\n",
    "    \n",
    "    setPaths(best_weights_number, rtt)"
   ]
  },
  {
   "cell_type": "code",
   "execution_count": null,
   "metadata": {},
   "outputs": [],
   "source": [
    "setVariableValues(135980, 10)"
   ]
  },
  {
   "cell_type": "code",
   "execution_count": null,
   "metadata": {},
   "outputs": [],
   "source": [
    "%%bash\n",
    "rm agregated\n",
    "rm -rf train\n",
    "mkdir train"
   ]
  },
  {
   "cell_type": "code",
   "execution_count": null,
   "metadata": {},
   "outputs": [],
   "source": [
    "%%bash -s $best_weights_number $validate_csv $weights_file\n",
    "rm /App/logs/client.logs\n",
    "echo $1 > $2\n",
    "for i in $(seq 1 200)\n",
    "do\n",
    "mn -c\n",
    "cd /App/mininettest/ && python3 /App/mininettest/congestiontest.py --weight_file $3 --rtt 10 --valid_congestion 0\n",
    "time=$(tail -1 /App/logs/client.logs | awk '{print $3}')\n",
    "echo $time >> $2\n",
    "done"
   ]
  },
  {
   "cell_type": "code",
   "execution_count": null,
   "metadata": {},
   "outputs": [],
   "source": [
    "import pandas\n",
    "\n",
    "rtt_ = pandas.read_csv(validate_csv)\n",
    "\n",
    "%matplotlib inline\n",
    "import matplotlib.pyplot as plt\n",
    "\n",
    "from IPython.core.pylabtools import figsize\n",
    "figsize(40, 7)\n",
    "\n",
    "(2*8 * 1024 * 1024 / rtt_).plot.box(sym='+')\n",
    "plt.ylabel(\"Throughput (Mbps)\")\n",
    "plt.xlabel(\"Steps\")\n",
    "plt.title(\"Throughput per delay with agent\")\n"
   ]
  },
  {
   "cell_type": "code",
   "execution_count": null,
   "metadata": {},
   "outputs": [],
   "source": [
    "(2*8 * 1024 * 1024 / rtt_).median()"
   ]
  },
  {
   "cell_type": "code",
   "execution_count": null,
   "metadata": {},
   "outputs": [],
   "source": [
    "(2*8 * 1024 * 1024 / rtt_).mean()"
   ]
  },
  {
   "cell_type": "code",
   "execution_count": null,
   "metadata": {},
   "outputs": [],
   "source": [
    "135980"
   ]
  }
 ],
 "metadata": {
  "kernelspec": {
   "display_name": "Python 3",
   "language": "python",
   "name": "python3"
  },
  "language_info": {
   "codemirror_mode": {
    "name": "ipython",
    "version": 3
   },
   "file_extension": ".py",
   "mimetype": "text/x-python",
   "name": "python",
   "nbconvert_exporter": "python",
   "pygments_lexer": "ipython3",
   "version": "3.7.3"
  }
 },
 "nbformat": 4,
 "nbformat_minor": 2
}
